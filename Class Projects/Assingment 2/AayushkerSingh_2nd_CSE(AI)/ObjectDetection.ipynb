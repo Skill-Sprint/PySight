{
 "cells": [
  {
   "cell_type": "code",
   "execution_count": null,
   "metadata": {},
   "outputs": [],
   "source": [
    "!pip install ultralytics"
   ]
  },
  {
   "cell_type": "code",
   "execution_count": null,
   "metadata": {},
   "outputs": [],
   "source": [
    "from ultralytics import YOLO\n",
    "import cv2\n",
    "# import datetime as dt"
   ]
  },
  {
   "cell_type": "code",
   "execution_count": null,
   "metadata": {},
   "outputs": [],
   "source": [
    "#Loading the models-\n",
    "model = YOLO('yolov8n.pt')\n",
    "\n",
    "your_name = \"Aayushker Singh\"\n",
    "# Capturing the video from webcam-\n",
    "cap = cv2.VideoCapture(0)\n",
    "ret = True\n",
    "while ret:\n",
    "    ret,frame = cap.read()\n",
    "    if ret==True:\n",
    "        # detecting objects from frame and storing the results in result variable-\n",
    "        result = model.track(frame, persist=True)\n",
    "        \n",
    "        # Plotting the results-\n",
    "        frame_ = result[0].plot()\n",
    "        \n",
    "        # Tried to display the date, time and name on the frame but it was not working :(\n",
    "        # date_time = str(dt.datetime.now())\n",
    "        # text_to_display = f\"{date_time} - {your_name}\"\n",
    "        # frame = cv2.putText(frame, text_to_display, (10, 30), cv2.FONT_HERSHEY_SIMPLEX, 0.5, (255, 0, 0), 2, cv2.LINE_AA)\n",
    "        # cv2.imshow(\"Video\", frame)\n",
    "\n",
    "        # visualize the frame-\n",
    "        cv2.imshow('Object Detection',frame_)\n",
    "        \n",
    "        # Exit using 'q' key-\n",
    "        if cv2.waitKey(1)==ord('q'):\n",
    "            break\n",
    "        \n",
    "# It is important to release the capture and destroy all windows after use.\n",
    "cap.release()\n",
    "cv2.destroyAllWindows()"
   ]
  },
  {
   "cell_type": "code",
   "execution_count": null,
   "metadata": {},
   "outputs": [],
   "source": []
  }
 ],
 "metadata": {
  "kernelspec": {
   "display_name": "Python 3",
   "language": "python",
   "name": "python3"
  },
  "language_info": {
   "codemirror_mode": {
    "name": "ipython",
    "version": 3
   },
   "file_extension": ".py",
   "mimetype": "text/x-python",
   "name": "python",
   "nbconvert_exporter": "python",
   "pygments_lexer": "ipython3",
   "version": "3.11.7"
  }
 },
 "nbformat": 4,
 "nbformat_minor": 2
}
